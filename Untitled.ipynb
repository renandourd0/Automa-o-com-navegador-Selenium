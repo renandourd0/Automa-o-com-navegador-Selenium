{
 "cells": [
  {
   "cell_type": "code",
   "execution_count": null,
   "id": "c14fa7b3-cbff-41de-98e7-233678c344d7",
   "metadata": {},
   "outputs": [],
   "source": []
  },
  {
   "cell_type": "code",
   "execution_count": 6,
   "id": "ebacdde3-657f-403f-beac-d063eb26f3df",
   "metadata": {},
   "outputs": [],
   "source": [
    "from selenium import webdriver\n",
    "from webdriver_manager.chrome import ChromeDriverManager\n",
    "from selenium.webdriver.chrome.service import Service\n",
    "\n",
    "servico = Service(ChromeDriverManager().install())\n",
    "\n",
    "navegador = webdriver.Chrome(service=servico)\n",
    "\n",
    "navegador.get(\"http://www.bancocn.com/admin/login.php\")\n",
    "\n",
    "\n",
    "navegador.find_element('xpath', \n",
    "                       '//*[@id=\"block-login\"]/div/form/div[1]/div[2]/input').send_keys(\"admin\")\n",
    "navegador.find_element('xpath', \n",
    "                       '//*[@id=\"block-login\"]/div/form/div[2]/div[2]/input').send_keys(\"senhafoda\")\n",
    "\n",
    "navegador.find_element('xpath', '//*[@id=\"block-login\"]/div/form/div[3]/div/button').click()\n",
    "\n",
    "navegador.find_element('xpath', '/html/body/a').click()\n"
   ]
  },
  {
   "cell_type": "code",
   "execution_count": 5,
   "id": "b887de7c-c4fe-41b2-a10a-362e58a03c86",
   "metadata": {},
   "outputs": [],
   "source": []
  },
  {
   "cell_type": "code",
   "execution_count": null,
   "id": "8d5d72c0-dbdb-4489-aeca-5678e28f0555",
   "metadata": {},
   "outputs": [],
   "source": []
  },
  {
   "cell_type": "code",
   "execution_count": null,
   "id": "caf03dfa-3fc6-4ac7-a5a5-a8925ee61a3e",
   "metadata": {},
   "outputs": [],
   "source": []
  }
 ],
 "metadata": {
  "kernelspec": {
   "display_name": "Python 3 (ipykernel)",
   "language": "python",
   "name": "python3"
  },
  "language_info": {
   "codemirror_mode": {
    "name": "ipython",
    "version": 3
   },
   "file_extension": ".py",
   "mimetype": "text/x-python",
   "name": "python",
   "nbconvert_exporter": "python",
   "pygments_lexer": "ipython3",
   "version": "3.11.7"
  }
 },
 "nbformat": 4,
 "nbformat_minor": 5
}
